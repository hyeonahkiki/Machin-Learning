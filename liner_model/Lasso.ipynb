{
 "cells": [
  {
   "cell_type": "markdown",
   "metadata": {},
   "source": [
    "# 확장된 보스턴 주택가격에 라쏘 적용"
   ]
  },
  {
   "cell_type": "code",
   "execution_count": 2,
   "metadata": {},
   "outputs": [],
   "source": [
    "# 데이터가져오기 / test데이터 분리\n",
    "from sklearn.datasets import load_boston\n",
    "from sklearn.model_selection import train_test_split\n",
    "\n",
    "boston = load_boston()\n",
    "X_train, X_test, y_train, y_test = train_test_split(boston['data'], boston['target'])"
   ]
  },
  {
   "cell_type": "code",
   "execution_count": 3,
   "metadata": {},
   "outputs": [],
   "source": [
    "# Lasso 적용\n",
    "from sklearn.linear_model import Lasso\n",
    "\n",
    "lasso = Lasso().fit(X_train, y_train)"
   ]
  },
  {
   "cell_type": "code",
   "execution_count": 4,
   "metadata": {},
   "outputs": [
    {
     "name": "stdout",
     "output_type": "stream",
     "text": [
      "0.6688794836279606\n",
      "0.6947950162418919\n"
     ]
    },
    {
     "data": {
      "text/plain": [
       "(379, 13)"
      ]
     },
     "execution_count": 4,
     "metadata": {},
     "output_type": "execute_result"
    }
   ],
   "source": [
    "# 각각 점수 보기\n",
    "print(lasso.score(X_train, y_train))\n",
    "print(lasso.score(X_test, y_test))\n",
    "\n",
    "# shape(데이터개수, 특성 수)\n",
    "X_train.shape"
   ]
  },
  {
   "cell_type": "code",
   "execution_count": 16,
   "metadata": {},
   "outputs": [
    {
     "name": "stdout",
     "output_type": "stream",
     "text": [
      "10\n"
     ]
    }
   ],
   "source": [
    "# numpy를 쓰기 위해서\n",
    "import numpy as np\n",
    "print(np.sum(lasso.coef_!=0))"
   ]
  },
  {
   "cell_type": "markdown",
   "metadata": {},
   "source": [
    "# max_iter(반복 실해하는 최대횟수)"
   ]
  },
  {
   "cell_type": "code",
   "execution_count": 6,
   "metadata": {},
   "outputs": [],
   "source": [
    "# alpha를 0.01로 설정\n",
    "lasso001 = Lasso(alpha=0.01, max_iter=100).fit(X_train, y_train)"
   ]
  },
  {
   "cell_type": "code",
   "execution_count": 17,
   "metadata": {},
   "outputs": [
    {
     "name": "stdout",
     "output_type": "stream",
     "text": [
      "0.5287495071416068\n",
      "0.5425379740187777\n",
      "4\n"
     ]
    }
   ],
   "source": [
    "print(lasso001.score(X_train, y_train))\n",
    "print(lasso001.score(X_test, y_test))\n",
    "print(np.sum(lasso001.coef_!=0))"
   ]
  },
  {
   "cell_type": "code",
   "execution_count": 18,
   "metadata": {},
   "outputs": [],
   "source": [
    "# alpha를 10로 설정\n",
    "lasso10 = Lasso(alpha=10, max_iter=100).fit(X_train, y_train)"
   ]
  },
  {
   "cell_type": "code",
   "execution_count": 19,
   "metadata": {
    "scrolled": true
   },
   "outputs": [
    {
     "name": "stdout",
     "output_type": "stream",
     "text": [
      "0.5287495071416068\n",
      "0.5425379740187777\n",
      "4\n"
     ]
    }
   ],
   "source": [
    "print(lasso10.score(X_train, y_train))\n",
    "print(lasso10.score(X_test, y_test))\n",
    "print(np.sum(lasso10.coef_!=0))"
   ]
  },
  {
   "cell_type": "code",
   "execution_count": 14,
   "metadata": {},
   "outputs": [],
   "source": [
    "# alpha를 0.0001로 설정\n",
    "lasso00001 = Lasso(alpha=0.0001, max_iter=100).fit(X_train, y_train)"
   ]
  },
  {
   "cell_type": "code",
   "execution_count": 20,
   "metadata": {},
   "outputs": [
    {
     "name": "stdout",
     "output_type": "stream",
     "text": [
      "0.7342821736025038\n",
      "0.7355718311642994\n",
      "13\n"
     ]
    }
   ],
   "source": [
    "print(lasso00001.score(X_train, y_train))\n",
    "print(lasso00001.score(X_test, y_test))\n",
    "print(np.sum(lasso00001.coef_!=0))"
   ]
  },
  {
   "cell_type": "markdown",
   "metadata": {},
   "source": [
    "# alpha값이 다른 모델들의 계수를 그래프"
   ]
  },
  {
   "cell_type": "code",
   "execution_count": 24,
   "metadata": {},
   "outputs": [],
   "source": [
    "# plt을 쓰기 위해서는 matplotlib를 가져와야한다\n",
    "from matplotlib import pyplot as plt"
   ]
  },
  {
   "cell_type": "code",
   "execution_count": 34,
   "metadata": {},
   "outputs": [
    {
     "data": {
      "text/plain": [
       "Text(0, 0.5, 'coef size')"
      ]
     },
     "execution_count": 34,
     "metadata": {},
     "output_type": "execute_result"
    },
    {
     "data": {
      "image/png": "[encoded data removed]",
      "text/plain": [
       "<Figure size 432x288 with 1 Axes>"
      ]
     },
     "metadata": {
      "needs_background": "light"
     },
     "output_type": "display_data"
    }
   ],
   "source": [
    "# plt.plot는 라인플롯을 그리는 함수\n",
    "plt.plot(lasso.coef_, 's', label='Lasso alpha=1')\n",
    "plt.plot(lasso001.coef_, '^', label='Lasso alpha=0.01')\n",
    "plt.plot(lasso00001.coef_, 'v', label='Lasso alpha=0.0001')\n",
    "\n",
    "# ridge와의 비교를 위해 ridge가져오기\n",
    "from sklearn.linear_model import Ridge\n",
    "ridge = Ridge().fit(X_train, y_train)\n",
    "ridge01 = Ridge(alpha=1).fit(X_train, y_train)\n",
    "plt.plot(ridge01.coef_, 'o', label=\"Ridge alpha=0.1\")\n",
    "\n",
    "# legend함수로 위치를 잡는다. ncol은 col loc는 위치\n",
    "plt.legend(ncol=2, loc=(0, 1.05))\n",
    "plt.ylim(-25, 25)\n",
    "\n",
    "#계수목록, 계수크기(한글쓰려면 폰트를 따로 설치해야됨)\n",
    "plt.xlabel(\"coef list\")\n",
    "plt.ylabel(\"coef size\")"
   ]
  },
  {
   "cell_type": "code",
   "execution_count": null,
   "metadata": {},
   "outputs": [],
   "source": []
  },
  {
   "cell_type": "code",
   "execution_count": null,
   "metadata": {},
   "outputs": [],
   "source": []
  }
 ],
 "metadata": {
  "kernelspec": {
   "display_name": "Python 3",
   "language": "python",
   "name": "python3"
  },
  "language_info": {
   "codemirror_mode": {
    "name": "ipython",
    "version": 3
   },
   "file_extension": ".py",
   "mimetype": "text/x-python",
   "name": "python",
   "nbconvert_exporter": "python",
   "pygments_lexer": "ipython3",
   "version": "3.7.4"
  }
 },
 "nbformat": 4,
 "nbformat_minor": 4
}
